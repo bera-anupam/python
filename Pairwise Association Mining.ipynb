{
 "cells": [
  {
   "cell_type": "markdown",
   "metadata": {},
   "source": [
    "## Finding frequent pairs: the Pairwise Association Mining problem"
   ]
  },
  {
   "cell_type": "markdown",
   "metadata": {},
   "source": [
    "Suppose we are a retailer (e.g., Publix, Amazon) who sells items, and we want to discover whether customers buy certain pairs of items together frequently. The data we have are baskets: a basket is the list of items that some customer bought during one of his or her visits. The problem of finding frequent pairs is the pairwise association mining problem."
   ]
  },
  {
   "cell_type": "markdown",
   "metadata": {},
   "source": [
    "A simple algorithm could be as follows:\n",
    "1. Scan all the baskets, and for each basket, initialize and increment the counts for all the pairs in the basket.\n",
    "2. After going through all the baskets, go through the list of counts and pull out the top occurrences."
   ]
  },
  {
   "cell_type": "markdown",
   "metadata": {},
   "source": [
    "Let's build from the ground up; and look at how we can count unique entries in a collection of values. First, we should generate a large collection of random integers."
   ]
  },
  {
   "cell_type": "code",
   "execution_count": 3,
   "metadata": {
    "collapsed": true
   },
   "outputs": [],
   "source": [
    "import random\n",
    "\n",
    "def generate_rand (n, k):\n",
    "    return [random.randint (0, n) for _ in range (k)]\n",
    "\n",
    "random.seed (0xDEADBEEF)\n",
    "x = generate_rand (1000000000, 1000000)"
   ]
  },
  {
   "cell_type": "markdown",
   "metadata": {},
   "source": [
    "Using only lists:"
   ]
  },
  {
   "cell_type": "code",
   "execution_count": 5,
   "metadata": {
    "collapsed": false
   },
   "outputs": [
    {
     "name": "stdout",
     "output_type": "stream",
     "text": [
      "n = 1000000 and n_unique = 999492\n"
     ]
    }
   ],
   "source": [
    "def count_unique__using_lists (x):\n",
    "    \"\"\"Returns the number of unique entries in `x`.\"\"\"\n",
    "    if len(x) == 0: return 0\n",
    "    assert len(x) >= 1\n",
    "    y = sorted(x)\n",
    "    z = [yi != yj for yi, yj in zip(y[:-1], y[1:])]\n",
    "    return 1 + sum(z)\n",
    "\n",
    "n_unique = count_unique__using_lists (x)\n",
    "print ('n =', len (x), 'and n_unique =', n_unique)"
   ]
  },
  {
   "cell_type": "markdown",
   "metadata": {},
   "source": [
    "Now, let us count using only dictionaries. Python has a cool data type called `defaultdict`, which essentially is a dictionary to which we can add values without their respective keys already being present."
   ]
  },
  {
   "cell_type": "code",
   "execution_count": 6,
   "metadata": {
    "collapsed": false
   },
   "outputs": [
    {
     "name": "stdout",
     "output_type": "stream",
     "text": [
      "n = 1000000 and n_unique = 999492\n"
     ]
    }
   ],
   "source": [
    "from collections import defaultdict\n",
    "def count_unique__using_dicts (x):\n",
    "    \"\"\"Returns the number of unique entries in `x`.\"\"\"\n",
    "    if len(x) == 0: return 0\n",
    "    assert len(x) >= 1\n",
    "    y = sorted(x)\n",
    "    z = defaultdict(int)\n",
    "    for item in y:\n",
    "        z[item] += 1\n",
    "    return(len(z))\n",
    "\n",
    "n_unique = count_unique__using_dicts (x)\n",
    "print ('n =', len (x), 'and n_unique =', n_unique)"
   ]
  },
  {
   "cell_type": "markdown",
   "metadata": {},
   "source": [
    "Finally, we'll count using a the Python `set` construct."
   ]
  },
  {
   "cell_type": "code",
   "execution_count": 7,
   "metadata": {
    "collapsed": false
   },
   "outputs": [
    {
     "name": "stdout",
     "output_type": "stream",
     "text": [
      "n = 1000000 and n_unique = 999492\n"
     ]
    }
   ],
   "source": [
    "def count_unique__using_sets (x):\n",
    "    \"\"\"Returns the number of unique entries in `x`.\"\"\"\n",
    "    return len(set(x))\n",
    "\n",
    "n_unique = count_unique__using_sets (x)\n",
    "print ('n =', len (x), 'and n_unique =', n_unique)"
   ]
  },
  {
   "cell_type": "markdown",
   "metadata": {},
   "source": [
    "Okay, we now know how to count the number of unique entries in a collection of numerical values. What about string values though? Let's see how to count (uniquely also) the number of words in a string containing multiple words (a funny example below):"
   ]
  },
  {
   "cell_type": "code",
   "execution_count": 9,
   "metadata": {
    "collapsed": true
   },
   "outputs": [],
   "source": [
    "text = \"\"\"Well, my friend, you are in luck\n",
    "For an Answer at you I will huck\n",
    "'Cause when you ask what a Woodchuck will Chuck\n",
    "You see most folk they don't give a fuck\n",
    "\n",
    "But I play along like I should\n",
    "For you want to know just How much wood\n",
    "And I really will tell you\n",
    "But I don't want to be misunderstood\n",
    "\n",
    "When you are driving through the muck\n",
    "Hoping that you don't get stuck\n",
    "It is times like these you know you really are a schmuck\n",
    "Why you want free wood man spend a buck\n",
    "\n",
    "Keep your foot upon the gas\n",
    "and eventually you could\n",
    "Roll up into Woody Woodchuck's \n",
    "woodchuck chucking neighborhood\"\"\""
   ]
  },
  {
   "cell_type": "code",
   "execution_count": 24,
   "metadata": {
    "collapsed": false
   },
   "outputs": [
    {
     "name": "stdout",
     "output_type": "stream",
     "text": [
      "117\n",
      "83\n"
     ]
    }
   ],
   "source": [
    "words = text.lower().split()\n",
    "print(len(words))\n",
    "\n",
    "unique_words = set(words)\n",
    "print(len(unique_words))"
   ]
  },
  {
   "cell_type": "markdown",
   "metadata": {},
   "source": [
    "Now let us write a function that returns a dictionary whose keys are each of the unique letters of the string and whose corresponding values are the counts of each letter. For the moment, we'll discard non-alphabetic characters, e.g., numbers and punctuation."
   ]
  },
  {
   "cell_type": "code",
   "execution_count": 29,
   "metadata": {
    "collapsed": false
   },
   "outputs": [
    {
     "name": "stdout",
     "output_type": "stream",
     "text": [
      "defaultdict(<class 'int'>, {'e': 34, 'd': 22, 'p': 6, 'w': 22, 'l': 27, 'h': 24, 't': 30, 'n': 28, 'a': 27, 's': 18, 'k': 20, 'c': 21, 'm': 8, 'r': 16, 'b': 5, 'j': 1, 'i': 26, 'g': 9, 'f': 7, 'v': 3, 'o': 53, 'u': 38, 'y': 21})\n"
     ]
    }
   ],
   "source": [
    "def count_letters (s):\n",
    "    \"\"\"Returns a (default) dictionary of (letter, count) pairs for the given string.\"\"\"\n",
    "    counts = defaultdict (int)\n",
    "    letters = [c for c in s.lower () if c.isalpha ()]\n",
    "    for letter in letters:\n",
    "        counts[letter] += 1\n",
    "    return counts\n",
    "\n",
    "counts = count_letters (text)\n",
    "print(counts)"
   ]
  },
  {
   "cell_type": "markdown",
   "metadata": {},
   "source": [
    "Now, let's assume that each word is a \"basket\" and let each alphabetic character within a word be an \"item\" within that basket. Then, if we were to count co-occurring letters in words, we'd in fact be doing pairwise association mining. That is, we're trying to find which pairs of letters tend to co-occur most frequently."
   ]
  },
  {
   "cell_type": "markdown",
   "metadata": {},
   "source": [
    "We'll also treat each instance of a repeated word as a distinct basket. Within a basket, we'll count distinct occurrences of each letter. For example, for the word, wood, the pairs (w, o) and (o, d) occur twice each, while the pairs (w, d) and (o, o) occur once each."
   ]
  },
  {
   "cell_type": "markdown",
   "metadata": {},
   "source": [
    "Python is cool since it provides handy tool to do just this, i.e., count the number of distinct pairs when given a collection of objects. We can do this as follows:"
   ]
  },
  {
   "cell_type": "code",
   "execution_count": 31,
   "metadata": {
    "collapsed": false
   },
   "outputs": [
    {
     "name": "stdout",
     "output_type": "stream",
     "text": [
      "[('w', 'o'), ('w', 'o'), ('w', 'd'), ('o', 'o'), ('o', 'd'), ('o', 'd')]\n"
     ]
    }
   ],
   "source": [
    "from itertools import combinations\n",
    "\n",
    "print (list (combinations ('wood', 2)))"
   ]
  },
  {
   "cell_type": "markdown",
   "metadata": {},
   "source": [
    "Now that this is done, let's look at **Sparse Vectors** and **Sparse Matrices**, which are so often used in counting. We call them sparse because we expect most of the values to be 0. We can create them using default dictionaries. Let us use sparse vectors to do what we did before (count the number of occurrences of each alphabet)"
   ]
  },
  {
   "cell_type": "code",
   "execution_count": 33,
   "metadata": {
    "collapsed": false
   },
   "outputs": [
    {
     "name": "stdout",
     "output_type": "stream",
     "text": [
      "=== Vector counts_vec in Z^23. ===\n",
      "a: 27\n",
      "b: 5\n",
      "c: 21\n",
      "d: 22\n",
      "e: 34\n",
      "f: 7\n",
      "g: 9\n",
      "h: 24\n",
      "i: 26\n",
      "j: 1\n",
      "k: 20\n",
      "l: 27\n",
      "m: 8\n",
      "n: 28\n",
      "o: 53\n",
      "p: 6\n",
      "r: 16\n",
      "s: 18\n",
      "t: 30\n",
      "u: 38\n",
      "v: 3\n",
      "w: 22\n",
      "y: 21\n"
     ]
    }
   ],
   "source": [
    "def sparse_vector ():\n",
    "    \"\"\"Returns an empty sparse vector for storing counts.\"\"\"\n",
    "    return defaultdict (int)\n",
    "\n",
    "def count_letters_spvec (s):\n",
    "    \"\"\"Returns a sparse vector of (letter, count) pairs for the given string.\"\"\"\n",
    "    counts = sparse_vector ()\n",
    "    letters = [c for c in s.lower () if c.isalpha ()]\n",
    "    for letter in letters:\n",
    "        counts[letter] += 1\n",
    "    return counts\n",
    "\n",
    "def print_sparse_vector (x, name=None):\n",
    "    \"\"\"Prints a sparse vector with an optional name.\"\"\"\n",
    "    if name:\n",
    "        name += ' '\n",
    "    else:\n",
    "        name = ''\n",
    "    print (\"=== Vector {}in Z^{}. ===\".format (name, len (x)))\n",
    "    elements = sorted (x.items (), key=lambda p: p[0])\n",
    "    for key, value in elements:\n",
    "        print (\"%s: %d\" % (key, value))\n",
    "        \n",
    "counts_vec = count_letters_spvec (text)\n",
    "print_sparse_vector (counts_vec, 'counts_vec')"
   ]
  },
  {
   "cell_type": "markdown",
   "metadata": {},
   "source": [
    "Now to the good part! We'll create a sparse matrix using our sparse vector as a building block and use it to count pairs that occur together."
   ]
  },
  {
   "cell_type": "code",
   "execution_count": 38,
   "metadata": {
    "collapsed": false
   },
   "outputs": [
    {
     "name": "stdout",
     "output_type": "stream",
     "text": [
      "=== Matrix in Z^(23x23) ===\n",
      "  a | [('c', 1), ('d', 4), ('e', 8), ('g', 2), ('h', 2), ('i', 2), ('k', 2), ('l', 8), ('m', 1), ('n', 11), ('o', 1), ('p', 1), ('r', 5), ('s', 5), ('t', 8), ('u', 2), ('v', 1), ('w', 5), ('y', 4)]\n",
      "  b | [('c', 1), ('d', 1), ('e', 2), ('g', 1), ('h', 2), ('i', 1), ('k', 1), ('n', 1), ('o', 3), ('r', 1), ('t', 2), ('u', 3)]\n",
      "  c | [('a', 1), ('b', 1), ('c', 6), ('d', 7), ('e', 1), ('f', 1), ('g', 2), ('h', 14), ('i', 2), ('k', 18), ('l', 2), ('m', 4), ('n', 2), ('o', 13), ('s', 6), ('t', 1), ('u', 21), ('w', 6)]\n",
      "  d | [('a', 4), ('b', 1), ('c', 7), ('d', 1), ('e', 5), ('f', 1), ('g', 2), ('h', 6), ('i', 8), ('k', 4), ('l', 3), ('m', 2), ('n', 12), ('o', 25), ('p', 1), ('r', 5), ('s', 8), ('t', 5), ('u', 8), ('v', 1), ('w', 7), ('y', 1)]\n",
      "  e | [('a', 8), ('b', 2), ('c', 1), ('d', 5), ('e', 5), ('f', 3), ('g', 3), ('h', 9), ('i', 7), ('k', 4), ('l', 14), ('m', 2), ('n', 9), ('o', 6), ('p', 3), ('r', 11), ('s', 10), ('t', 11), ('u', 5), ('v', 3), ('w', 4), ('y', 6)]\n",
      "  f | [('c', 1), ('d', 1), ('e', 3), ('i', 1), ('k', 2), ('l', 1), ('n', 1), ('o', 5), ('r', 4), ('t', 1), ('u', 1)]\n",
      "  g | [('a', 2), ('b', 1), ('c', 2), ('d', 2), ('e', 3), ('h', 6), ('i', 6), ('k', 1), ('l', 1), ('n', 5), ('o', 6), ('p', 1), ('r', 3), ('s', 1), ('t', 2), ('u', 2), ('v', 2)]\n",
      "  h | [('a', 2), ('b', 2), ('c', 14), ('d', 6), ('e', 9), ('g', 6), ('h', 2), ('i', 4), ('k', 7), ('l', 1), ('m', 2), ('n', 6), ('o', 17), ('p', 1), ('r', 4), ('s', 4), ('t', 9), ('u', 11), ('w', 8), ('y', 2)]\n",
      "  i | [('a', 2), ('b', 1), ('c', 2), ('d', 8), ('e', 7), ('f', 1), ('g', 6), ('h', 4), ('i', 1), ('k', 4), ('l', 8), ('m', 2), ('n', 10), ('o', 7), ('p', 1), ('r', 5), ('s', 5), ('t', 4), ('u', 2), ('v', 3), ('w', 3)]\n",
      "  j | [('s', 1), ('t', 1), ('u', 1)]\n",
      "  k | [('a', 2), ('b', 1), ('c', 18), ('d', 4), ('e', 4), ('f', 2), ('g', 1), ('h', 7), ('i', 4), ('l', 4), ('m', 2), ('n', 4), ('o', 9), ('p', 1), ('s', 4), ('t', 1), ('u', 12), ('w', 5)]\n",
      "  l | [('a', 8), ('c', 2), ('d', 3), ('e', 14), ('f', 1), ('g', 1), ('h', 1), ('i', 8), ('k', 4), ('l', 9), ('n', 3), ('o', 7), ('p', 1), ('r', 6), ('s', 1), ('t', 4), ('u', 6), ('v', 2), ('w', 9), ('y', 7)]\n",
      "  m | [('a', 1), ('c', 4), ('d', 2), ('e', 2), ('h', 2), ('i', 2), ('k', 2), ('n', 2), ('o', 3), ('r', 1), ('s', 5), ('t', 3), ('u', 4), ('y', 1)]\n",
      "  n | [('a', 11), ('b', 1), ('c', 2), ('d', 12), ('e', 9), ('f', 1), ('g', 5), ('h', 6), ('i', 10), ('k', 4), ('l', 3), ('m', 2), ('o', 14), ('p', 3), ('r', 5), ('s', 4), ('t', 9), ('u', 4), ('v', 2), ('w', 8), ('y', 1)]\n",
      "  o | [('a', 1), ('b', 3), ('c', 13), ('d', 25), ('e', 6), ('f', 5), ('g', 6), ('h', 17), ('i', 7), ('k', 9), ('l', 7), ('m', 3), ('n', 14), ('o', 11), ('p', 2), ('r', 11), ('s', 8), ('t', 12), ('u', 26), ('w', 16), ('y', 15)]\n",
      "  p | [('a', 1), ('d', 1), ('e', 3), ('g', 1), ('h', 1), ('i', 1), ('k', 1), ('l', 1), ('n', 3), ('o', 2), ('s', 1), ('u', 2), ('y', 1)]\n",
      "  r | [('a', 5), ('b', 1), ('d', 5), ('e', 11), ('f', 4), ('g', 3), ('h', 4), ('i', 5), ('l', 6), ('m', 1), ('n', 5), ('o', 11), ('s', 3), ('t', 2), ('u', 4), ('v', 1), ('w', 1), ('y', 4)]\n",
      "  s | [('a', 5), ('c', 6), ('d', 8), ('e', 10), ('g', 1), ('h', 4), ('i', 5), ('j', 1), ('k', 4), ('l', 1), ('m', 5), ('n', 4), ('o', 8), ('p', 1), ('r', 3), ('s', 1), ('t', 8), ('u', 8), ('w', 2)]\n",
      "  t | [('a', 8), ('b', 2), ('c', 1), ('d', 5), ('e', 11), ('f', 1), ('g', 2), ('h', 9), ('i', 4), ('j', 1), ('k', 1), ('l', 4), ('m', 3), ('n', 9), ('o', 12), ('r', 2), ('s', 8), ('t', 1), ('u', 7), ('v', 1), ('w', 4), ('y', 2)]\n",
      "  u | [('a', 2), ('b', 3), ('c', 21), ('d', 8), ('e', 5), ('f', 1), ('g', 2), ('h', 11), ('i', 2), ('j', 1), ('k', 12), ('l', 6), ('m', 4), ('n', 4), ('o', 26), ('p', 2), ('r', 4), ('s', 8), ('t', 7), ('v', 1), ('w', 4), ('y', 14)]\n",
      "  v | [('a', 1), ('d', 1), ('e', 3), ('g', 2), ('i', 3), ('l', 2), ('n', 2), ('r', 1), ('t', 1), ('u', 1), ('y', 1)]\n",
      "  w | [('a', 5), ('c', 6), ('d', 7), ('e', 4), ('h', 8), ('i', 3), ('k', 5), ('l', 9), ('n', 8), ('o', 16), ('r', 1), ('s', 2), ('t', 4), ('u', 4), ('y', 2)]\n",
      "  y | [('a', 4), ('d', 1), ('e', 6), ('h', 2), ('l', 7), ('m', 1), ('n', 1), ('o', 15), ('p', 1), ('r', 4), ('t', 2), ('u', 14), ('v', 1), ('w', 2)]\n"
     ]
    }
   ],
   "source": [
    "def sparse_matrix ():\n",
    "    \"\"\"Returns an empty sparse matrix (2-D table) for storing integer counts.\"\"\"    \n",
    "    return defaultdict(sparse_vector)\n",
    "\n",
    "def count_letter_pairs (s):\n",
    "    Counts = sparse_matrix ()\n",
    "    \n",
    "    baskets = s.lower().split()\n",
    "    for b in baskets:\n",
    "        items = [c for c in b if c.isalpha()]\n",
    "        for i,j in combinations(items,2):\n",
    "            Counts[i][j] += 1\n",
    "            if i!=j:\n",
    "                Counts[j][i] +=1\n",
    "    \n",
    "    return Counts\n",
    "\n",
    "def print_sparse_matrix (X, name=None):\n",
    "    if not name:\n",
    "        name = ''\n",
    "    else:\n",
    "        name += ' '\n",
    "        \n",
    "    nr = len (X)\n",
    "    nc = max (nr, max ([len (r) for r in X.values ()]))\n",
    "    \n",
    "    print (\"=== Matrix {}in Z^({}x{}) ===\".format (name, nr, nc))\n",
    "    sorted_rows = sorted (X.items (), key=lambda p: p[0])\n",
    "    for (i, row_i) in sorted_rows:\n",
    "        sorted_cols = sorted (row_i.items (), key=lambda p: p[0])\n",
    "        print (\"{:>3s} | {}\".format (i, sorted_cols))\n",
    "\n",
    "X = count_letter_pairs (text)\n",
    "print_sparse_matrix (X)"
   ]
  },
  {
   "cell_type": "markdown",
   "metadata": {},
   "source": [
    "Now let us extract a specific number of 'top pairs' from this mumbo-jumbo of an output, specifically those pairs whose frequency is more than 15"
   ]
  },
  {
   "cell_type": "code",
   "execution_count": 44,
   "metadata": {
    "collapsed": false
   },
   "outputs": [
    {
     "name": "stdout",
     "output_type": "stream",
     "text": [
      "=== Top entries of X that have frequency more than 15 ===\n",
      "(('c', 'k'), 18)\n",
      "(('c', 'u'), 21)\n",
      "(('d', 'o'), 25)\n",
      "(('h', 'o'), 17)\n",
      "(('o', 'u'), 26)\n",
      "(('o', 'w'), 16)\n",
      "(('o', 'y'), 15)\n"
     ]
    }
   ],
   "source": [
    "def top_entries (X, s): # s is the frequency threshold\n",
    "    \"\"\"Given a sparse (count) matrix, returns a list of\n",
    "    the pairs that occur at least some number of times.\n",
    "    \"\"\"\n",
    "    top_pairs = []\n",
    "    items = sorted(X)\n",
    "    for item in items:\n",
    "        for item2 in items:\n",
    "            if X[item][item2]>=s:\n",
    "                if ((item2, item),X[item2][item]) not in top_pairs:\n",
    "                    top_pairs.append(((item, item2),X[item][item2]))\n",
    "    return top_pairs\n",
    "\n",
    "s = 15\n",
    "top_pairs = top_entries (X, s)\n",
    "\n",
    "print (\"=== Top entries of X that have frequency more than {} ===\".format (s))\n",
    "for p in top_pairs:\n",
    "    print (p)"
   ]
  },
  {
   "cell_type": "markdown",
   "metadata": {},
   "source": [
    "And now let us work on **actual data**! We'll download some actual shopping basket data and find co-occurring pairs. We can use the shopping basket data available in someone else's [online tutorial](http://www.salemmarafi.com/code/market-basket-analysis-with-r/).\n",
    "\n",
    "The _Requests_ module makes it easy to download any web page as (raw) text. Below, we'll download the data and store it as the variable `groceries_file`."
   ]
  },
  {
   "cell_type": "code",
   "execution_count": 46,
   "metadata": {
    "collapsed": true
   },
   "outputs": [],
   "source": [
    "import requests\n",
    "response = requests.get ('http://www.salemmarafi.com/wp-content/uploads/2014/03/groceries.csv')\n",
    "groceries_file = response.text"
   ]
  },
  {
   "cell_type": "code",
   "execution_count": 48,
   "metadata": {
    "collapsed": true
   },
   "outputs": [],
   "source": [
    "def pairwise_assoc_miner (text, s):\n",
    "    def sparse_vector ():\n",
    "        return defaultdict (int)\n",
    "    \n",
    "    def sparse_matrix ():\n",
    "        return defaultdict(sparse_vector)\n",
    "    \n",
    "    def count_letter_pairs (text):\n",
    "        #initializing the empty sparse matrix\n",
    "        Counts = sparse_matrix ()\n",
    "        \n",
    "        #splitting the given file by lines so that we get separate baskets\n",
    "        baskets = text.splitlines()\n",
    "        \n",
    "        \"\"\"this loop goes through all baskets; splits using the comma to get individual items and then forms combinations\n",
    "        among items of each basket. It then increases counts for both combinations (i,j) and (j,i) while also taking\n",
    "        care of diagonal elements\"\"\"\n",
    "        for basket in baskets:\n",
    "            items = basket.split(',')\n",
    "            for i,j in combinations(items,2):\n",
    "                Counts[i][j] += 1\n",
    "                if i!=j:\n",
    "                    Counts[j][i] +=1\n",
    "        return Counts\n",
    "    \n",
    "    def top_entries (text, s):\n",
    "        #calling the previous function and storing our sparse matrix in X\n",
    "        X = count_letter_pairs (text)\n",
    "        \n",
    "        #initializing an empty list\n",
    "        top_pairs = []\n",
    "        \n",
    "        #sorting the matrix so that the individual items in baskets are stored in the variable 'items'\n",
    "        items = sorted(X)\n",
    "        \n",
    "        \"\"\"going through all the pairs of items, and adding to the top_pairs list the pairs whose count is >= s \n",
    "        (but only if the mirror pair is not already in the list)\"\"\"\n",
    "        for item in items:\n",
    "            for item2 in items:\n",
    "                if X[item][item2]>=s:\n",
    "                    if ((item2, item),X[item2][item]) not in top_pairs:\n",
    "                        top_pairs.append(((item, item2),X[item][item2]))\n",
    "        return top_pairs\n",
    "    \n",
    "    #calling the top_entries function on the text and returning it \n",
    "    return top_entries(text,s)"
   ]
  },
  {
   "cell_type": "markdown",
   "metadata": {},
   "source": [
    "And now we can just call the above function, give it a threshold and it'll return the pairs which occur more times than the value of the threshold:"
   ]
  },
  {
   "cell_type": "code",
   "execution_count": 50,
   "metadata": {
    "collapsed": false
   },
   "outputs": [
    {
     "name": "stdout",
     "output_type": "stream",
     "text": [
      "[(('other vegetables', 'whole milk'), 736), (('rolls/buns', 'whole milk'), 557), (('whole milk', 'yogurt'), 551)]\n"
     ]
    }
   ],
   "source": [
    "print(pairwise_assoc_miner (groceries_file, 500))"
   ]
  },
  {
   "cell_type": "markdown",
   "metadata": {},
   "source": [
    "Nice, eh?"
   ]
  }
 ],
 "metadata": {
  "kernelspec": {
   "display_name": "Python [Root]",
   "language": "python",
   "name": "Python [Root]"
  },
  "language_info": {
   "codemirror_mode": {
    "name": "ipython",
    "version": 3
   },
   "file_extension": ".py",
   "mimetype": "text/x-python",
   "name": "python",
   "nbconvert_exporter": "python",
   "pygments_lexer": "ipython3",
   "version": "3.5.1"
  }
 },
 "nbformat": 4,
 "nbformat_minor": 0
}
